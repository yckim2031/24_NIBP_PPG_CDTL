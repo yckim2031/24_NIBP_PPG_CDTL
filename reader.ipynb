{
 "cells": [
  {
   "cell_type": "code",
   "execution_count": 1,
   "id": "e48bcbf8",
   "metadata": {
    "tags": []
   },
   "outputs": [],
   "source": [
    "import os\n",
    "import numpy as np"
   ]
  },
  {
   "cell_type": "code",
   "execution_count": 2,
   "id": "2f4484b0",
   "metadata": {
    "tags": []
   },
   "outputs": [],
   "source": [
    "def Result_calculator(file_path):\n",
    "    with open(file_path, 'r') as file:\n",
    "        lines = file.readlines()\n",
    "        SBP_val = float(lines[1][12:-1])\n",
    "        DBP_val = float(lines[2][12:-1])\n",
    "        SBP_PR_val = float(lines[3][-4:-1])\n",
    "        DBP_PR_val = float(lines[4][-4:-1])\n",
    "        \n",
    "        return [SBP_val, DBP_val, SBP_PR_val, DBP_PR_val]"
   ]
  },
  {
   "cell_type": "code",
   "execution_count": 3,
   "id": "2019f85f",
   "metadata": {
    "tags": []
   },
   "outputs": [
    {
     "name": "stdin",
     "output_type": "stream",
     "text": [
      "Type models folder path:  D:\\Model_result\\V1H50PG1_to_MG1\n",
      "Save text file?(y or n): y\n"
     ]
    }
   ],
   "source": [
    "directory_path = input(\"Type models folder path: \")\n",
    "save_txt_flag = input(\"Save text file?(y or n):\")\n",
    "\n",
    "res_50 = np.empty((0,4), dtype = float) #SBP_MAE, DBP_MAE, SBP_PR, DBP_PR\n",
    "res_100 = np.empty((0,4), dtype = float) #SBP_MAE, DBP_MAE, SBP_PR, DBP_PR\n",
    "res_360 = np.empty((0,4), dtype = float) #SBP_MAE, DBP_MAE, SBP_PR, DBP_PR\n",
    "\n",
    "for root, dirs, files in os.walk(directory_path):\n",
    "    for file in files:\n",
    "        file_path = os.path.join(root, file)\n",
    "        if file.endswith(\"Result.txt\"):  # Check if the file has a .txt extension\n",
    "            with open(file_path, 'r') as file:\n",
    "                lines = file.readlines()\n",
    "                if lines[0][-3] == '5':\n",
    "                    res_50 = np.insert(res_50, res_50.shape[0], Result_calculator(file_path), axis = 0)\n",
    "                if lines[0][-3] == '0':\n",
    "                    res_100 = np.insert(res_100, res_100.shape[0], Result_calculator(file_path), axis = 0)\n",
    "                if lines[0][-3] == '6':\n",
    "                    res_360 = np.insert(res_360, res_360.shape[0], Result_calculator(file_path), axis = 0)\n",
    "        \n",
    "data_num = ['50', '100', '360']\n",
    "data_num_indx = 0\n",
    "\n",
    "if save_txt_flag == 'y':\n",
    "    for data_array in [res_50, res_100, res_360]:\n",
    "        if data_array.shape[0] != 0:\n",
    "            res_mean = np.mean(data_array, axis = 0)\n",
    "            with open(directory_path+ \"\\\\\" +\"Collective Result\"+data_num[data_num_indx]+\".txt\", 'w') as file:\n",
    "                file.write(\"Transfer model result \"+data_num[data_num_indx]+\" data\\n\")\n",
    "                file.write(\"MAE of SBP: \" +str(round(res_mean[0],2))+\"\\n\")\n",
    "                file.write(\"MAE of DBP: \" +str(round(res_mean[1],2))+\"\\n\")\n",
    "                file.write(\"Pearson-R of SBP: \" +str(round(res_mean[2],2))+\"\\n\")\n",
    "                file.write(\"Pearson-R of DBP: \" +str(round(res_mean[3],2))+\"\\n\\n\")\n",
    "        elif data_array.shape[0] == 0:\n",
    "            with open(directory_path+ \"\\\\\" +\"Collective Result.txt\", 'w') as file:\n",
    "                file.write(\"Transfer model result \"+data_num[data_num_indx]+\" data does not exist\\n\")\n",
    "        data_num_indx += 1\n",
    "        \n",
    "else:\n",
    "    print(\"Wrong Type. Please try again\")"
   ]
  }
 ],
 "metadata": {
  "kernelspec": {
   "display_name": "ppg_drunk",
   "language": "python",
   "name": "ppg_drunk"
  },
  "language_info": {
   "codemirror_mode": {
    "name": "ipython",
    "version": 3
   },
   "file_extension": ".py",
   "mimetype": "text/x-python",
   "name": "python",
   "nbconvert_exporter": "python",
   "pygments_lexer": "ipython3",
   "version": "3.11.4"
  }
 },
 "nbformat": 4,
 "nbformat_minor": 5
}
