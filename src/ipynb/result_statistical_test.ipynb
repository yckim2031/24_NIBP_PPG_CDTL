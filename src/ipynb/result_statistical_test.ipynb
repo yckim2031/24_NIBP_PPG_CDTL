{
 "cells": [
  {
   "cell_type": "code",
   "execution_count": null,
   "id": "23dd95ea-b087-4fa4-a573-363a703651fd",
   "metadata": {},
   "outputs": [],
   "source": [
    "from scipy import stats\n",
    "import os\n",
    "import numpy as np\n",
    "import pandas as pd\n",
    "import matplotlib.pyplot as plt\n",
    "from keras.models import load_model"
   ]
  },
  {
   "cell_type": "code",
   "execution_count": 2,
   "id": "84bd3b5b-d68b-4c1b-813f-11959a4fd285",
   "metadata": {
    "jupyter": {
     "source_hidden": true
    }
   },
   "outputs": [],
   "source": [
    "# Data load\n",
    "\n",
    "def Result_calculator(file_path):\n",
    "    with open(file_path, 'r') as file:\n",
    "        lines = file.readlines()\n",
    "        SBP_val = float(lines[1][12:-1])\n",
    "        DBP_val = float(lines[2][12:-1])\n",
    "        SBP_PR_val = float(lines[3][-4:-1])\n",
    "        DBP_PR_val = float(lines[4][-4:-1])\n",
    "        \n",
    "        return [SBP_val, DBP_val, SBP_PR_val, DBP_PR_val]\n",
    "\n",
    "# 각 환자별 평균 계산 - attempt 없애기\n",
    "def np_to_df(res_data):\n",
    "    res_by_sub = np.empty((0,5))\n",
    "    sub_list = np.unique(res_data[:,0])\n",
    "\n",
    "    # Check every data is processed\n",
    "    if sub_list.shape[0] == 50:\n",
    "        if res_data.shape[0] != 150:\n",
    "            print(\"Exp is not done yet, only: \", len(sub_list))\n",
    "\n",
    "    for sub in sub_list:\n",
    "        temp_sub_list = np.where(res_data[:,0]==sub)\n",
    "        temp_res_val = res_data[temp_sub_list, 3:]\n",
    "        temp_mean = np.mean(temp_res_val, axis = 1)\n",
    "        temp_mean = np.insert(temp_mean, 0, sub)\n",
    "        res_by_sub = np.insert(res_by_sub, res_by_sub.shape[0], temp_mean, axis = 0)\n",
    "    \n",
    "    res_dict = {\"Subject\":res_by_sub[:,0].astype(int), \"SBP MAE\":res_by_sub[:,1], \"DBP MAE\":res_by_sub[:,2], \n",
    "                   \"SBP PR\":res_by_sub[:,3], \"DBP PR\":res_by_sub[:,4]}\n",
    "    res_pd = pd.DataFrame(res_dict)\n",
    "    res_pd = res_pd.set_index('Subject')\n",
    "\n",
    "    return res_pd\n",
    "\n",
    "def res_reader(directory_path):\n",
    "    # From model folders to Dataframe\n",
    "    \n",
    "    res_50 = np.empty((0,7), dtype = float) #axis = 3: Sub num, data_num, attempt, SBP_MAE, DBP_MAE, SBP_PR, DBP_PR\n",
    "    res_100 = np.empty((0,7), dtype = float)\n",
    "    res_360 = np.empty((0,7), dtype = float)\n",
    "    res_720 = np.empty((0,7), dtype = float)\n",
    "    res_1800 = np.empty((0,7), dtype = float)\n",
    "    \n",
    "    sub_res = np.empty((0,7), dtype = float)\n",
    "\n",
    "    for root, dirs, files in os.walk(directory_path):\n",
    "        for file in files:\n",
    "            file_path = os.path.join(root, file)\n",
    "            \n",
    "            if file.endswith(\".txt\"):\n",
    "                directory, filename = os.path.split(file_path)\n",
    "                directory, attempt = os.path.split(directory)\n",
    "                if int(attempt) < 4:\n",
    "                    directory, data_num = os.path.split(directory)\n",
    "                    directory, sub_num = os.path.split(directory)\n",
    "                    result = Result_calculator(file_path)\n",
    "                    temp_res = [sub_num, data_num, attempt]\n",
    "                    temp_res = np.append(temp_res, result)\n",
    "                    sub_res = np.insert(sub_res, sub_res.shape[0], temp_res, axis = 0)\n",
    "    \n",
    "    # 하나의 넘파이 배열 안에 모든 데이터 넣기 - attempt 별 데이터 모두 들어감\n",
    "    for data in sub_res:\n",
    "        if int(data[1]) == 50:\n",
    "            res_50 = np.insert(res_50, res_50.shape[0], data, axis = 0)\n",
    "        if int(data[1]) == 100:\n",
    "            res_100 = np.insert(res_100, res_100.shape[0], data, axis = 0)\n",
    "        if int(data[1]) == 360:\n",
    "            res_360 = np.insert(res_360, res_360.shape[0], data, axis = 0)\n",
    "        if int(data[1]) == 720:\n",
    "            res_720 = np.insert(res_720, res_720.shape[0], data, axis = 0)\n",
    "        if int(data[1]) == 1800:\n",
    "            res_1800 = np.insert(res_1800, res_1800.shape[0], data, axis = 0)\n",
    "    \n",
    "    # 각 환자별 평균 계산 - attempt 없애기\n",
    "    res_50_df = np_to_df(res_50)\n",
    "    res_100_df = np_to_df(res_100)\n",
    "    res_360_df = np_to_df(res_360)\n",
    "    res_720_df = np_to_df(res_720)\n",
    "    res_1800_df = np_to_df(res_1800)\n",
    "\n",
    "    return res_50_df, res_100_df, res_360_df, res_720_df, res_1800_df\n",
    "\n",
    "def find_files(folder_path, kind):\n",
    "    file_root_list = []\n",
    "    for (path, dir, files) in os.walk(folder_path):\n",
    "        for filename in files:\n",
    "            if filename.endswith(kind):\n",
    "                file_root = os.path.join(path, filename)\n",
    "                file_root_list.append(file_root)\n",
    "    return file_root_list"
   ]
  },
  {
   "cell_type": "markdown",
   "id": "ead8fa6d-5a11-406f-828f-479baca825af",
   "metadata": {},
   "source": [
    "## T-test"
   ]
  },
  {
   "cell_type": "code",
   "execution_count": 44,
   "id": "38f9a0fa-6d93-4c9d-a453-39b516784f4d",
   "metadata": {},
   "outputs": [
    {
     "name": "stdout",
     "output_type": "stream",
     "text": [
      "T-statistic: [0.34592913 2.69756306]\n",
      "P-value: [0.72944658 0.00706655]\n",
      "Fail to reject the null hypothesis: There is no significant difference between the means of the two samples.\n"
     ]
    }
   ],
   "source": [
    "def pred_mae(sub_list):\n",
    "    for sub in sub_list:\n",
    "        a = os.path.dirname(sub)\n",
    "        b = os.path.dirname(a)\n",
    "        tl_data_number = int(os.path.split(b)[1])\n",
    "        \n",
    "        if tl_data_number == 50:\n",
    "            \n",
    "            model_path = find_files(a, \".h5\")\n",
    "            model = load_model(model_path[0])\n",
    "            data = np.load(sub)\n",
    "            x_test, y_test = data['x_test'], data['y_test']\n",
    "    \n",
    "            y_pred = model.predict(x_test, verbose = 0)\n",
    "            mae = y_test - y_pred\n",
    "        else:\n",
    "            continue\n",
    "        break\n",
    "    return mae\n",
    "\n",
    "# T-test\n",
    "dir_path_1 = '/home/yckim/research/nibp_ppg/ex_3/model/transfer/m2_to_m1/'\n",
    "dir_path_2 = '/home/yckim/research/nibp_ppg/ex_3/model/transfer/v2_to_m1/'\n",
    "sub_list_1 = find_files(dir_path_1, \"used_data_1.npz\")\n",
    "sub_list_2 = find_files(dir_path_2, \"used_data_1.npz\")\n",
    "\n",
    "sample1 = pred_mae(sub_list_1)\n",
    "sample2 = pred_mae(sub_list_2)\n",
    "\n",
    "t_statistic, p_value = stats.ttest_ind(sample1, sample2)\n",
    "\n",
    "# Print the results\n",
    "print(\"T-statistic:\", t_statistic)\n",
    "print(\"P-value:\", p_value)\n",
    "\n",
    "# Interpret the results\n",
    "alpha = 0.05\n",
    "if p_value[0] < alpha:\n",
    "    print(\"Reject the null hypothesis: There is a significant difference between the means of the two samples.\")\n",
    "else:\n",
    "    print(\"Fail to reject the null hypothesis: There is no significant difference between the means of the two samples.\")"
   ]
  },
  {
   "cell_type": "markdown",
   "id": "fdada1f6-9883-48ff-86e8-9673c331bdfa",
   "metadata": {},
   "source": [
    "# Subject-calibration centring metric (SDS) -> Groupwise analysis\n",
    "### For the result of the paper: Analyze the dissimilarity"
   ]
  },
  {
   "cell_type": "code",
   "execution_count": 6,
   "id": "b8fdc82c-f521-4910-9b8c-9dba3173aa56",
   "metadata": {},
   "outputs": [
    {
     "name": "stdin",
     "output_type": "stream",
     "text": [
      "Type dataset folder:  /home/yckim/research/nibp_ppg/ex_3/data/m2/\n"
     ]
    },
    {
     "data": {
      "text/plain": [
       "array([[[20.74962849],\n",
       "        [10.16338094]]])"
      ]
     },
     "execution_count": 6,
     "metadata": {},
     "output_type": "execute_result"
    }
   ],
   "source": [
    "# SDS metric calculation\n",
    "dataset_path = input(\"Type dataset folder: \")\n",
    "file_list = os.listdir(dataset_path)\n",
    "bp_val = np.empty((0,2,0))\n",
    "all_bp_val = np.empty((3240,2,0))\n",
    "for file_name in file_list:\n",
    "    if file_name.endswith('.npz'):\n",
    "        bp_val = np.load(dataset_path+\"//\"+file_name)['y'][:3240,:]\n",
    "        all_bp_val = np.insert(all_bp_val, all_bp_val.shape[2], bp_val,axis = 2)\n",
    "\n",
    "s_val = all_bp_val - all_bp_val[0,:,:]\n",
    "s_mean = np.sum(np.sum(s_val, axis=0, keepdims = True),axis=2, keepdims=True)/162000\n",
    "s_diff = (s_val-s_mean)**2\n",
    "sds_val = np.sqrt(np.sum(np.sum(s_diff, axis=0, keepdims = True),axis=2, keepdims=True)/161999)\n",
    "sds_val"
   ]
  },
  {
   "cell_type": "markdown",
   "id": "afa44771-c363-4faf-b675-fab425b9cec7",
   "metadata": {},
   "source": [
    "m1: array([[[22.36624238], [10.74361466]]])\n",
    "m2: array([[[20.74962849], [10.16338094]]])\n",
    "v1: array([[[26.81278678], [15.68518243]]])\n",
    "v2: array([[[25.015235  ], [14.88755577]]])"
   ]
  }
 ],
 "metadata": {
  "kernelspec": {
   "display_name": "ml2310",
   "language": "python",
   "name": "ml2310"
  },
  "language_info": {
   "codemirror_mode": {
    "name": "ipython",
    "version": 3
   },
   "file_extension": ".py",
   "mimetype": "text/x-python",
   "name": "python",
   "nbconvert_exporter": "python",
   "pygments_lexer": "ipython3",
   "version": "3.11.5"
  }
 },
 "nbformat": 4,
 "nbformat_minor": 5
}
